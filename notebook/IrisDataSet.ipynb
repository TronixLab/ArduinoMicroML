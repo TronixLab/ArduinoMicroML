{
  "nbformat": 4,
  "nbformat_minor": 0,
  "metadata": {
    "colab": {
      "name": "IrisDataSet.ipynb",
      "provenance": [],
      "collapsed_sections": []
    },
    "kernelspec": {
      "name": "python3",
      "display_name": "Python 3"
    },
    "language_info": {
      "name": "python"
    }
  },
  "cells": [
    {
      "cell_type": "markdown",
      "metadata": {
        "id": "ZlYobjKrDCTw"
      },
      "source": [
        "# Iris Flower\n",
        "![An image](https://s3.amazonaws.com/assets.datacamp.com/blog_assets/Machine+Learning+R/iris-machinelearning.png)\n",
        "\n",
        "## Features definition\n",
        "There are 4 features in this dataset: *sepal length*, *sepal width*, *petal length*, *petal width*; and 3 classes: **Setosa**, **Versicolor**, **Virginica**. You can see in the picture below how they relate to the actual flower.\n",
        "\n",
        "![An image](https://eloquentarduino.github.io/wp-content/uploads/2019/12/iris-278x300.png)\n"
      ]
    },
    {
      "cell_type": "markdown",
      "metadata": {
        "id": "S7ksKnjpZ5lL"
      },
      "source": [
        "# Import Iris Flower Dataset from Scikit-Learn\n",
        "```from sklearn.datasets import load_iris```\n",
        "\n",
        "## Load the Iris Flower Dataset\n",
        "```iris = load_iris()```"
      ]
    },
    {
      "cell_type": "code",
      "metadata": {
        "id": "rjjf0ATWYEVb"
      },
      "source": [
        "# Import Iris Flower Dataset from Scikit-Learn\n",
        "from sklearn.datasets import load_iris\n",
        "\n",
        "# Inlude pandas library\n",
        "import pandas as pd\n",
        "\n",
        "# Load the Iris Flower Dataset\n",
        "iris = load_iris()\n",
        "\n",
        "# Extract the features\n",
        "df = pd.DataFrame(iris.data, columns=iris.feature_names)\n",
        "\n",
        "# Return the first five row of the data set\n",
        "df.head()"
      ],
      "execution_count": null,
      "outputs": []
    },
    {
      "cell_type": "code",
      "metadata": {
        "id": "X_MyWiKIXJg6"
      },
      "source": [
        "# Add the target or classes in the data frame\n",
        "df['species'] = pd.Categorical.from_codes(iris.target,iris.target_names)\n",
        "\n",
        "# Return the first five row of the data set\n",
        "df.head()"
      ],
      "execution_count": null,
      "outputs": []
    },
    {
      "cell_type": "code",
      "metadata": {
        "id": "SKqyq1RbacJM"
      },
      "source": [
        "# Return a random orders of the data set at the given nth elements\n",
        "df.sample(10)"
      ],
      "execution_count": null,
      "outputs": []
    },
    {
      "cell_type": "code",
      "metadata": {
        "id": "ho2EplMGZ-M6"
      },
      "source": [
        "# Include the Plotly Express library\n",
        "import plotly.express as px\n",
        "\n",
        "# Return the features of iris data set for data visualization\n",
        "iris_features = px.data.iris()\n",
        "\n",
        "# Scatter plot of Iris data set in a single figure\n",
        "fig = px.scatter(iris_features, x=\"sepal_width\", y=\"sepal_length\", color=\"species\")\n",
        "fig.show()"
      ],
      "execution_count": null,
      "outputs": []
    },
    {
      "cell_type": "code",
      "metadata": {
        "id": "eRqnwC8-ZE-y"
      },
      "source": [
        "# Scatter plot of Iris data set in matrix\n",
        "fig = px.scatter_matrix(iris_features, dimensions=[\"sepal_length\", \"sepal_width\", \"petal_length\", \"petal_width\"], color=\"species\")\n",
        "fig.show()"
      ],
      "execution_count": null,
      "outputs": []
    },
    {
      "cell_type": "code",
      "metadata": {
        "id": "UaZqGsxKAjDI"
      },
      "source": [
        "# Plot the Iris data set in 3D figure\n",
        "fig = px.scatter_3d(iris_features, x=\"petal_length\", y=\"petal_width\", z=\"sepal_length\", size=\"sepal_width\", \n",
        "              color=\"species\", color_discrete_map = {\"virginica\": 'green', \"setosa\": 'blue', \"versicolor\":'red'})\n",
        "fig.show()"
      ],
      "execution_count": null,
      "outputs": []
    }
  ]
}