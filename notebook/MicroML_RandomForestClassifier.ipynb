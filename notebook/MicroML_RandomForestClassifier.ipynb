{
  "nbformat": 4,
  "nbformat_minor": 0,
  "metadata": {
    "colab": {
      "name": "Eloquent_imuClassifierModel.ipynb",
      "provenance": []
    },
    "kernelspec": {
      "name": "python3",
      "display_name": "Python 3"
    },
    "language_info": {
      "name": "python"
    }
  },
  "cells": [
    {
      "cell_type": "markdown",
      "metadata": {
        "id": "VV31jIMoRNO_"
      },
      "source": [
        "![download.png](data:image/png;base64,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)\n",
        "\n",
        "# MicroML on Arduino\n",
        "[MicroML](https://openbase.com/python/micromlgen) bring Machine Learning algorithms to microcontrollers.\n",
        "\n",
        "**Supported classifiers**\n",
        "* DecisionTree\n",
        "* RandomForest\n",
        "* XGBoost\n",
        "* Gaussian Naive Bayes\n",
        "* Support Vector Machines (SVC and OneClassSVM)\n",
        "* Relevant Vector Machines\n",
        "* SEFR (Fast Linear-Time Classifier)\n",
        "* PCA (Principal Component Analysis)\n",
        "\n",
        "**Install micromlgen**\n",
        "```\n",
        "pip install micromlgen\n",
        "```\n",
        "\n"
      ]
    },
    {
      "cell_type": "code",
      "metadata": {
        "id": "gsKCymfwzgLd",
        "colab": {
          "base_uri": "https://localhost:8080/"
        },
        "outputId": "4babd87c-0643-4484-bce1-2c270067b695"
      },
      "source": [
        "pip install micromlgen"
      ],
      "execution_count": 1,
      "outputs": [
        {
          "output_type": "stream",
          "text": [
            "Collecting micromlgen\n",
            "  Downloading https://files.pythonhosted.org/packages/b7/a9/fcbd395324fa556992a9250e61461e40c2b7ac5031b40e1fc7ab22ec561e/micromlgen-1.1.23.tar.gz\n",
            "Requirement already satisfied: jinja2 in /usr/local/lib/python3.7/dist-packages (from micromlgen) (2.11.3)\n",
            "Requirement already satisfied: MarkupSafe>=0.23 in /usr/local/lib/python3.7/dist-packages (from jinja2->micromlgen) (2.0.1)\n",
            "Building wheels for collected packages: micromlgen\n",
            "  Building wheel for micromlgen (setup.py) ... \u001b[?25l\u001b[?25hdone\n",
            "  Created wheel for micromlgen: filename=micromlgen-1.1.23-cp37-none-any.whl size=29096 sha256=abaa8d71de7a398f96902a003e5a62dd1ab2ef563a26db704f38d92a708057b0\n",
            "  Stored in directory: /root/.cache/pip/wheels/18/8a/f0/bc837db55f7e6159d94de85c7e3b3dd78db19109f4de268f5f\n",
            "Successfully built micromlgen\n",
            "Installing collected packages: micromlgen\n",
            "Successfully installed micromlgen-1.1.23\n"
          ],
          "name": "stdout"
        }
      ]
    },
    {
      "cell_type": "markdown",
      "metadata": {
        "id": "qGnG5U1GVjoM"
      },
      "source": [
        "#Setup Python Environment\n",
        "The next cell sets up the dependencies in required for the notebook, run it."
      ]
    },
    {
      "cell_type": "code",
      "metadata": {
        "id": "eYY7qOp2ylqk"
      },
      "source": [
        "import numpy as np\n",
        "from sklearn.ensemble import RandomForestClassifier\n",
        "from micromlgen import port\n",
        "from glob import glob\n",
        "from os.path import basename"
      ],
      "execution_count": 2,
      "outputs": []
    },
    {
      "cell_type": "markdown",
      "metadata": {
        "id": "9SAdLuLPXlp-"
      },
      "source": [
        "# Create a Function to Handle the Dataset"
      ]
    },
    {
      "cell_type": "code",
      "metadata": {
        "id": "0r7zzH7mynv9"
      },
      "source": [
        "def load_features(folder):\n",
        "    dataset = None\n",
        "    classmap = {}\n",
        "    for class_idx, filename in enumerate(glob('%s/*.csv' % folder)):\n",
        "        class_name = basename(filename)[:-4]\n",
        "        classmap[class_idx] = class_name\n",
        "        samples = np.loadtxt(filename, dtype=float, delimiter=',')\n",
        "        labels = np.ones((len(samples), 1)) * class_idx\n",
        "        samples = np.hstack((samples, labels))\n",
        "        dataset = samples if dataset is None else np.vstack((dataset, samples))\n",
        "    return dataset, classmap"
      ],
      "execution_count": 7,
      "outputs": []
    },
    {
      "cell_type": "markdown",
      "metadata": {
        "id": "SiGGmc9uV7aF"
      },
      "source": [
        "#Upload Data\n",
        "* Open the panel on the left side of Colab by clicking on the folder icon.\n",
        "* Create a folder and name it \"dataset\".\n",
        "* Drag csv files from your computer to the tab to upload them into colab."
      ]
    },
    {
      "cell_type": "code",
      "metadata": {
        "id": "OStPHnw5zMJu"
      },
      "source": [
        "features, classmap = load_features('/content/dataset')\n",
        "X, y = features[:, :-1], features[:, -1]"
      ],
      "execution_count": 8,
      "outputs": []
    },
    {
      "cell_type": "markdown",
      "metadata": {
        "id": "1lMISQcsYFGr"
      },
      "source": [
        "# Train the Machine Learning Classifier\n",
        "Although this is a Random Forest classifier, you may replace it with any of the others without affecting the rest of the code."
      ]
    },
    {
      "cell_type": "code",
      "metadata": {
        "id": "0LcVlr56X7oN"
      },
      "source": [
        "classifier = RandomForestClassifier(n_estimators=30, max_depth=10).fit(X, y)"
      ],
      "execution_count": 9,
      "outputs": []
    },
    {
      "cell_type": "markdown",
      "metadata": {
        "id": "xTz96XC5XyZN"
      },
      "source": [
        "# Port the Model to plain C/C++ code\n",
        "Copy the resulting codes to your Arduino classifier sketch."
      ]
    },
    {
      "cell_type": "code",
      "metadata": {
        "id": "nzqyL_WA0ncs"
      },
      "source": [
        "c_code = port(classifier, classmap=classmap)\n",
        "print(c_code)"
      ],
      "execution_count": null,
      "outputs": []
    }
  ]
}